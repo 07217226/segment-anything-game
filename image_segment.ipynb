{
 "cells": [
  {
   "cell_type": "code",
   "id": "initial_id",
   "metadata": {
    "collapsed": true,
    "ExecuteTime": {
     "end_time": "2024-12-14T12:07:35.735150Z",
     "start_time": "2024-12-14T12:07:34.418079Z"
    }
   },
   "source": [
    "import pygame\n",
    "import sys\n",
    "from pygame.locals import *\n",
    "\n",
    "import os\n",
    "from six import moves\n",
    "\n",
    "from Main import input_point\n",
    "\n",
    "# if using Apple MPS, fall back to CPU for unsupported ops\n",
    "os.environ[\"PYTORCH_ENABLE_MPS_FALLBACK\"] = \"1\"\n",
    "import numpy as np\n",
    "import torch\n",
    "import matplotlib.pyplot as plt\n",
    "from PIL import Image\n",
    "from sam2.build_sam import build_sam2\n",
    "from sam2.sam2_image_predictor import SAM2ImagePredictor\n",
    "\n",
    "# select the device for computation\n",
    "if torch.cuda.is_available():\n",
    "    device = torch.device(\"cuda\")\n",
    "elif torch.backends.mps.is_available():\n",
    "    device = torch.device(\"mps\")\n",
    "else:\n",
    "    device = torch.device(\"cpu\")\n",
    "print(f\"using device: {device}\")"
   ],
   "outputs": [
    {
     "name": "stdout",
     "output_type": "stream",
     "text": [
      "pygame 2.6.1 (SDL 2.28.4, Python 3.11.0)\n",
      "Hello from the pygame community. https://www.pygame.org/contribute.html\n",
      "using device: mps\n"
     ]
    }
   ],
   "execution_count": 1
  },
  {
   "metadata": {
    "ExecuteTime": {
     "end_time": "2024-12-14T12:09:11.762481Z",
     "start_time": "2024-12-14T12:09:11.340934Z"
    }
   },
   "cell_type": "code",
   "source": [
    "sam2_checkpoint = \"./sam2_master/checkpoints/sam2.1_hiera_small.pt\"\n",
    "model_cfg = \"configs/sam2.1/sam2.1_hiera_s.yaml\"\n",
    "\n",
    "sam2_model = build_sam2(model_cfg, sam2_checkpoint, device=device)\n",
    "\n",
    "predictor = SAM2ImagePredictor(sam2_model)"
   ],
   "id": "3b355429a5bd5b7e",
   "outputs": [],
   "execution_count": 3
  },
  {
   "metadata": {
    "ExecuteTime": {
     "end_time": "2024-12-14T12:10:58.530609Z",
     "start_time": "2024-12-14T12:10:57.548825Z"
    }
   },
   "cell_type": "code",
   "source": [
    "SAM2image = Image.open('MyImages/ren.jpg')\n",
    "SAM2image_width, SAM2image_height= SAM2image.size\n",
    "SAM2image = SAM2image.convert(\"RGB\")\n",
    "predictor.set_image(SAM2image)"
   ],
   "id": "1fb6f254e1e46da0",
   "outputs": [
    {
     "name": "stderr",
     "output_type": "stream",
     "text": [
      "/Users/kolmio/PycharmProjects/SAM2kolmio/.venv/lib/python3.11/site-packages/torch/nn/functional.py:4594: UserWarning: The operator 'aten::upsample_bicubic2d.out' is not currently supported on the MPS backend and will fall back to run on the CPU. This may have performance implications. (Triggered internally at /Users/runner/work/pytorch/pytorch/pytorch/aten/src/ATen/mps/MPSFallback.mm:13.)\n",
      "  return torch._C._nn.upsample_bicubic2d(\n"
     ]
    }
   ],
   "execution_count": 4
  },
  {
   "metadata": {
    "ExecuteTime": {
     "end_time": "2024-12-14T12:13:56.854292Z",
     "start_time": "2024-12-14T12:13:56.348211Z"
    }
   },
   "cell_type": "code",
   "source": [
    "input_point=[(474, 184),(516, 219),(465, 219),(491, 263)]\n",
    "input_label=[1,1,1,1]\n",
    "masks, scores, logits = predictor.predict(\n",
    "            point_coords=input_point,\n",
    "            point_labels=input_label,\n",
    "            multimask_output=False,\n",
    "        )\n",
    "sorted_ind = np.argsort(scores)[::-1]\n",
    "masks = masks[sorted_ind]"
   ],
   "id": "6d8d31081078753a",
   "outputs": [],
   "execution_count": 6
  },
  {
   "metadata": {
    "ExecuteTime": {
     "end_time": "2024-12-14T12:14:47.208585Z",
     "start_time": "2024-12-14T12:14:47.146781Z"
    }
   },
   "cell_type": "code",
   "source": [
    "Npimage = np.array(SAM2image.convert(\"RGB\"))\n",
    "h, w = Npimage.shape[:2]\n",
    "result = np.zeros((h, w, 4), dtype=np.uint8)\n",
    "result[masks[0] > 0, :3] = Npimage[masks[0] > 0]\n",
    "result[..., 3] = np.where(masks[0] > 0, 255, 0)"
   ],
   "id": "ca57eaf896c5632d",
   "outputs": [],
   "execution_count": 7
  },
  {
   "metadata": {
    "ExecuteTime": {
     "end_time": "2024-12-14T12:15:58.327682Z",
     "start_time": "2024-12-14T12:15:58.090988Z"
    }
   },
   "cell_type": "code",
   "source": [
    "import matplotlib.pyplot as plt\n",
    "plt.imshow(result)"
   ],
   "id": "749dbe3920b79cb3",
   "outputs": [
    {
     "data": {
      "text/plain": [
       "<matplotlib.image.AxesImage at 0x152499650>"
      ]
     },
     "execution_count": 9,
     "metadata": {},
     "output_type": "execute_result"
    },
    {
     "data": {
      "text/plain": [
       "<Figure size 640x480 with 1 Axes>"
      ],
      "image/png": "[encoded data removed]"
     },
     "metadata": {},
     "output_type": "display_data"
    }
   ],
   "execution_count": 9
  },
  {
   "metadata": {
    "ExecuteTime": {
     "end_time": "2024-12-14T12:17:22.522159Z",
     "start_time": "2024-12-14T12:17:22.519098Z"
    }
   },
   "cell_type": "code",
   "source": "result.shape",
   "id": "11f2be56b2ef574a",
   "outputs": [
    {
     "data": {
      "text/plain": [
       "(1668, 2388, 4)"
      ]
     },
     "execution_count": 10,
     "metadata": {},
     "output_type": "execute_result"
    }
   ],
   "execution_count": 10
  },
  {
   "metadata": {
    "ExecuteTime": {
     "end_time": "2024-12-14T12:22:01.153409Z",
     "start_time": "2024-12-14T12:22:01.150057Z"
    }
   },
   "cell_type": "code",
   "source": "np.sum(result[600,:,:])",
   "id": "3028b1f1dd84e18f",
   "outputs": [
    {
     "data": {
      "text/plain": [
       "np.uint64(0)"
      ]
     },
     "execution_count": 13,
     "metadata": {},
     "output_type": "execute_result"
    }
   ],
   "execution_count": 13
  },
  {
   "metadata": {
    "ExecuteTime": {
     "end_time": "2024-12-14T12:29:46.265308Z",
     "start_time": "2024-12-14T12:29:46.236701Z"
    }
   },
   "cell_type": "code",
   "source": [
    "first_h_bound=0\n",
    "for i in range(result.shape[0]): \n",
    "    if np.sum(result[i,:,:])>0:\n",
    "        first_h_bound=i\n",
    "        break\n",
    "second_h_bound=result.shape[0]\n",
    "for i in range(result.shape[0]-1,0,-1):\n",
    "    if np.sum(result[i,:,:])>0:\n",
    "        second_h_bound=i\n",
    "        break\n",
    "\n",
    "first_w_bound=0\n",
    "for i in range(result.shape[0]): \n",
    "    if np.sum(result[:,i,:])>0:\n",
    "        first_w_bound=i\n",
    "        break\n",
    "second_w_bound=result.shape[0]\n",
    "for i in range(result.shape[0]-1,0,-1):\n",
    "    if np.sum(result[:,i,:])>0:\n",
    "        second_w_bound=i\n",
    "        break\n",
    "\n"
   ],
   "id": "8a174773000e36f0",
   "outputs": [],
   "execution_count": 23
  },
  {
   "metadata": {
    "ExecuteTime": {
     "end_time": "2024-12-14T12:27:56.085333Z",
     "start_time": "2024-12-14T12:27:56.082254Z"
    }
   },
   "cell_type": "code",
   "source": "first_h_bound\n",
   "id": "b2d35d85ffe959f4",
   "outputs": [
    {
     "data": {
      "text/plain": [
       "7"
      ]
     },
     "execution_count": 20,
     "metadata": {},
     "output_type": "execute_result"
    }
   ],
   "execution_count": 20
  },
  {
   "metadata": {
    "ExecuteTime": {
     "end_time": "2024-12-14T12:27:57.485540Z",
     "start_time": "2024-12-14T12:27:57.480927Z"
    }
   },
   "cell_type": "code",
   "source": "second_h_bound",
   "id": "ad7c4dbfebde5d6d",
   "outputs": [
    {
     "data": {
      "text/plain": [
       "569"
      ]
     },
     "execution_count": 21,
     "metadata": {},
     "output_type": "execute_result"
    }
   ],
   "execution_count": 21
  },
  {
   "metadata": {
    "ExecuteTime": {
     "end_time": "2024-12-14T12:51:14.131542Z",
     "start_time": "2024-12-14T12:51:14.072716Z"
    }
   },
   "cell_type": "code",
   "source": [
    "cut_out=result[first_h_bound:second_h_bound,first_w_bound:second_w_bound,:].copy()\n",
    "rotate=np.transpose(cut_out,(1,0,2))\n",
    "plt.imshow(rotate)\n"
   ],
   "id": "c84ebcd4f5285de7",
   "outputs": [
    {
     "data": {
      "text/plain": [
       "<matplotlib.image.AxesImage at 0x36e23cc50>"
      ]
     },
     "execution_count": 33,
     "metadata": {},
     "output_type": "execute_result"
    },
    {
     "data": {
      "text/plain": [
       "<Figure size 640x480 with 1 Axes>"
      ],
      "image/png": "[encoded data removed]"
     },
     "metadata": {},
     "output_type": "display_data"
    }
   ],
   "execution_count": 33
  },
  {
   "metadata": {
    "ExecuteTime": {
     "end_time": "2024-12-14T12:31:47.803284Z",
     "start_time": "2024-12-14T12:31:47.798012Z"
    }
   },
   "cell_type": "code",
   "source": "cut_out.shape",
   "id": "92181a3ab5fd6311",
   "outputs": [
    {
     "data": {
      "text/plain": [
       "(562, 237, 4)"
      ]
     },
     "execution_count": 28,
     "metadata": {},
     "output_type": "execute_result"
    }
   ],
   "execution_count": 28
  },
  {
   "metadata": {
    "ExecuteTime": {
     "end_time": "2024-12-14T12:33:45.832112Z",
     "start_time": "2024-12-14T12:33:45.828258Z"
    }
   },
   "cell_type": "code",
   "source": [
    "def cutoutobject(result):\n",
    "    first_h_bound=0\n",
    "    for i in range(result.shape[0]): \n",
    "        if np.sum(result[i,:,:])>0:\n",
    "            first_h_bound=i\n",
    "            break\n",
    "    second_h_bound=result.shape[0]\n",
    "    for i in range(result.shape[0]-1,0,-1):\n",
    "        if np.sum(result[i,:,:])>0:\n",
    "            second_h_bound=i\n",
    "            break\n",
    "    \n",
    "    first_w_bound=0\n",
    "    for i in range(result.shape[0]): \n",
    "        if np.sum(result[:,i,:])>0:\n",
    "            first_w_bound=i\n",
    "            break\n",
    "    second_w_bound=result.shape[0]\n",
    "    for i in range(result.shape[0]-1,0,-1):\n",
    "        if np.sum(result[:,i,:])>0:\n",
    "            second_w_bound=i\n",
    "            break\n",
    "    return result[first_h_bound:second_h_bound, first_w_bound:second_w_bound, :].copy()"
   ],
   "id": "5a75de6515ebe151",
   "outputs": [],
   "execution_count": 29
  }
 ],
 "metadata": {
  "kernelspec": {
   "display_name": "Python 3",
   "language": "python",
   "name": "python3"
  },
  "language_info": {
   "codemirror_mode": {
    "name": "ipython",
    "version": 2
   },
   "file_extension": ".py",
   "mimetype": "text/x-python",
   "name": "python",
   "nbconvert_exporter": "python",
   "pygments_lexer": "ipython2",
   "version": "2.7.6"
  }
 },
 "nbformat": 4,
 "nbformat_minor": 5
}
